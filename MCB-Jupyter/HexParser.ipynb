{
 "cells": [
  {
   "cell_type": "code",
   "execution_count": 2,
   "metadata": {},
   "outputs": [],
   "source": [
    "import random\n",
    "import zlib"
   ]
  },
  {
   "cell_type": "code",
   "execution_count": 3,
   "metadata": {},
   "outputs": [],
   "source": [
    "with open(\"C:\\\\Users\\\\craz0\\\\Desktop\\\\r.0.0.mca\",\"rb\") as file:\n",
    "    print(file.read().hex())\n",
    "file.close()"
   ]
  },
  {
   "cell_type": "code",
   "execution_count": 5,
   "metadata": {},
   "outputs": [],
   "source": [
    "with open(\"C:\\\\Users\\\\craz0\\\\Desktop\\\\file.txt\",\"w\") as file:\n",
    "    file.write(\"hehyo\")\n",
    "    file.seek(2)\n",
    "    file.write(\"2\")"
   ]
  },
  {
   "cell_type": "code",
   "execution_count": 3,
   "metadata": {},
   "outputs": [
    {
     "ename": "error",
     "evalue": "Error -3 while decompressing data: unknown compression method",
     "output_type": "error",
     "traceback": [
      "\u001b[1;31m---------------------------------------------------------------------------\u001b[0m",
      "\u001b[1;31merror\u001b[0m                                     Traceback (most recent call last)",
      "\u001b[1;32m<ipython-input-3-4352bab963f2>\u001b[0m in \u001b[0;36m<module>\u001b[1;34m()\u001b[0m\n\u001b[0;32m      3\u001b[0m \u001b[1;31m#unzip\u001b[0m\u001b[1;33m\u001b[0m\u001b[1;33m\u001b[0m\u001b[0m\n\u001b[0;32m      4\u001b[0m \u001b[0mBAchunkData\u001b[0m \u001b[1;33m=\u001b[0m \u001b[0mbytearray\u001b[0m\u001b[1;33m.\u001b[0m\u001b[0mfromhex\u001b[0m\u001b[1;33m(\u001b[0m\u001b[0mdata\u001b[0m\u001b[1;33m)\u001b[0m\u001b[1;33m\u001b[0m\u001b[0m\n\u001b[1;32m----> 5\u001b[1;33m \u001b[0mBOchunkData\u001b[0m \u001b[1;33m=\u001b[0m \u001b[0mzlib\u001b[0m\u001b[1;33m.\u001b[0m\u001b[0mdecompress\u001b[0m\u001b[1;33m(\u001b[0m\u001b[0mBAchunkData\u001b[0m\u001b[1;33m)\u001b[0m\u001b[1;33m\u001b[0m\u001b[0m\n\u001b[0m\u001b[0;32m      6\u001b[0m \u001b[0mData\u001b[0m \u001b[1;33m=\u001b[0m \u001b[0mBOchunkData\u001b[0m\u001b[1;33m.\u001b[0m\u001b[0mhex\u001b[0m\u001b[1;33m(\u001b[0m\u001b[1;33m)\u001b[0m\u001b[1;33m\u001b[0m\u001b[0m\n",
      "\u001b[1;31merror\u001b[0m: Error -3 while decompressing data: unknown compression method"
     ]
    }
   ],
   "source": [
    "data = \"0000025602789ceddbdd6eda301407f09336e32340532e77d78b3dc5ae0a34b4681941403b4d9a84d2c4050b88596ca675577d8e3d65df607320dd5aba0f40b032f5ff93a2434c72622c9438b66c1159f4c2659fd82847998ef2d554526922a49ac4226052b2709fcc2f2d214933c9727da9ce27a1af18cd7cb50b94a9723166fa08232931b061c3f63c37934a8d68e05f72c5c22e1fa73709227d13f99cde442cb2ce18ef0fd4d89fc82215bc9a5369f6eaaee7b5f5b7afcc3d836e8e8f0ed3904b839986bd341869a034dca4e1380d471bcb53ddadfa14e9e55bafdbf09abdaaebd5de349aa7bda6d7739dca85d341fb2dd37ef642fba1d59669b5d23bafed9ef43ae7ed7aa5e6a0cd9669b303b7717ad6c51f6d853c94a762978f981329ae389b3d3174596e61dfea8a2aebf260c8c2bc2e38a40dcb533ea94572851f55e8b0407111494befeee9075775248261d2659e777dcb000000f0ece429dbf2474c2936eb20e4c86cfafa05b834e6110b62ff4abdf6794c77c5e59fc5972c8c754f82b2ba8b31bc76935763d2c73db56f0000b003ec79b85def64fb4192c7564efbdb4c8be9d6abf05fad96d6fee5c7ad57e2fef70fae7b6b2ff10b0c32deeb3e81351b66d8995e010000003c81c7130f9bb0992c000000f0af6c7ae2619da1903f8c7c000000c07f2099783030f100000000c930c3414b48d59aaf0be6517f2b0b2f2cb23a2a9e066a1a3369cd9624c74a26c56d76c56216e98b1729eb44618dabebe48c22e5ea2256fa7039df4d1288a83f10a3f0aee605977f9cf2f0fe728ef2bc486e792109ed53e1c457fe058b25171151e6037d078b4343d1\"\n",
    "\n",
    "#unzip\n",
    "BAchunkData = bytearray.fromhex(data)\n",
    "BOchunkData = zlib.decompress(BAchunkData)\n",
    "Data = BOchunkData.hex()"
   ]
  },
  {
   "cell_type": "code",
   "execution_count": null,
   "metadata": {},
   "outputs": [],
   "source": []
  }
 ],
 "metadata": {
  "kernelspec": {
   "display_name": "Python 3",
   "language": "python",
   "name": "python3"
  },
  "language_info": {
   "codemirror_mode": {
    "name": "ipython",
    "version": 3
   },
   "file_extension": ".py",
   "mimetype": "text/x-python",
   "name": "python",
   "nbconvert_exporter": "python",
   "pygments_lexer": "ipython3",
   "version": "3.6.4"
  }
 },
 "nbformat": 4,
 "nbformat_minor": 2
}
